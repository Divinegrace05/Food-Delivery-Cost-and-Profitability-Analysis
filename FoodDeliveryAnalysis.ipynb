{
 "cells": [
  {
   "cell_type": "markdown",
   "id": "d0fddc0d",
   "metadata": {},
   "source": [
    "# Food Delivery Cost and Profitability Analysis"
   ]
  },
  {
   "cell_type": "markdown",
   "id": "648fc7d0",
   "metadata": {},
   "source": [
    "Food Delivery Cost and Profitability Analysis involves examining all the costs associated with delivering food orders, from direct expenses like delivery fees and packaging to indirect expenses like discounts offered to customers and commission fees paid by restaurants. By juxtaposing these costs against the revenue generated (primarily through order values and commission fees), the analysis aims to provide insights into how profitable the food delivery service is on a per-order basis.\n",
    "\n",
    "Below is the process we can follow for the task of Food Delivery Cost and Profitability Analysis:"
   ]
  },
  {
   "cell_type": "markdown",
   "id": "9fba2278",
   "metadata": {},
   "source": [
    "### 1. Start by gathering comprehensive data related to all aspects of food delivery \n",
    "operations."
   ]
  },
  {
   "cell_type": "code",
   "execution_count": 1,
   "id": "cf896e72",
   "metadata": {},
   "outputs": [
    {
     "name": "stderr",
     "output_type": "stream",
     "text": [
      "C:\\Users\\Han\\anaconda3\\envs\\learn-env\\lib\\site-packages\\scipy\\__init__.py:138: UserWarning: A NumPy version >=1.16.5 and <1.23.0 is required for this version of SciPy (detected version 1.24.3)\n",
      "  warnings.warn(f\"A NumPy version >={np_minversion} and <{np_maxversion} is required for this version of \"\n"
     ]
    },
    {
     "data": {
      "text/html": [
       "<div>\n",
       "<style scoped>\n",
       "    .dataframe tbody tr th:only-of-type {\n",
       "        vertical-align: middle;\n",
       "    }\n",
       "\n",
       "    .dataframe tbody tr th {\n",
       "        vertical-align: top;\n",
       "    }\n",
       "\n",
       "    .dataframe thead th {\n",
       "        text-align: right;\n",
       "    }\n",
       "</style>\n",
       "<table border=\"1\" class=\"dataframe\">\n",
       "  <thead>\n",
       "    <tr style=\"text-align: right;\">\n",
       "      <th></th>\n",
       "      <th>Order ID</th>\n",
       "      <th>Customer ID</th>\n",
       "      <th>Restaurant ID</th>\n",
       "      <th>Order Date and Time</th>\n",
       "      <th>Delivery Date and Time</th>\n",
       "      <th>Order Value</th>\n",
       "      <th>Delivery Fee</th>\n",
       "      <th>Payment Method</th>\n",
       "      <th>Discounts and Offers</th>\n",
       "      <th>Commission Fee</th>\n",
       "      <th>Payment Processing Fee</th>\n",
       "      <th>Refunds/Chargebacks</th>\n",
       "    </tr>\n",
       "  </thead>\n",
       "  <tbody>\n",
       "    <tr>\n",
       "      <th>0</th>\n",
       "      <td>1</td>\n",
       "      <td>C8270</td>\n",
       "      <td>R2924</td>\n",
       "      <td>2024-02-01 01:11:52</td>\n",
       "      <td>2024-02-01 02:39:52</td>\n",
       "      <td>1914</td>\n",
       "      <td>0</td>\n",
       "      <td>Credit Card</td>\n",
       "      <td>5% on App</td>\n",
       "      <td>150</td>\n",
       "      <td>47</td>\n",
       "      <td>0</td>\n",
       "    </tr>\n",
       "    <tr>\n",
       "      <th>1</th>\n",
       "      <td>2</td>\n",
       "      <td>C1860</td>\n",
       "      <td>R2054</td>\n",
       "      <td>2024-02-02 22:11:04</td>\n",
       "      <td>2024-02-02 22:46:04</td>\n",
       "      <td>986</td>\n",
       "      <td>40</td>\n",
       "      <td>Digital Wallet</td>\n",
       "      <td>10%</td>\n",
       "      <td>198</td>\n",
       "      <td>23</td>\n",
       "      <td>0</td>\n",
       "    </tr>\n",
       "    <tr>\n",
       "      <th>2</th>\n",
       "      <td>3</td>\n",
       "      <td>C6390</td>\n",
       "      <td>R2870</td>\n",
       "      <td>2024-01-31 05:54:35</td>\n",
       "      <td>2024-01-31 06:52:35</td>\n",
       "      <td>937</td>\n",
       "      <td>30</td>\n",
       "      <td>Cash on Delivery</td>\n",
       "      <td>15% New User</td>\n",
       "      <td>195</td>\n",
       "      <td>45</td>\n",
       "      <td>0</td>\n",
       "    </tr>\n",
       "    <tr>\n",
       "      <th>3</th>\n",
       "      <td>4</td>\n",
       "      <td>C6191</td>\n",
       "      <td>R2642</td>\n",
       "      <td>2024-01-16 22:52:49</td>\n",
       "      <td>2024-01-16 23:38:49</td>\n",
       "      <td>1463</td>\n",
       "      <td>50</td>\n",
       "      <td>Cash on Delivery</td>\n",
       "      <td>NaN</td>\n",
       "      <td>146</td>\n",
       "      <td>27</td>\n",
       "      <td>0</td>\n",
       "    </tr>\n",
       "    <tr>\n",
       "      <th>4</th>\n",
       "      <td>5</td>\n",
       "      <td>C6734</td>\n",
       "      <td>R2799</td>\n",
       "      <td>2024-01-29 01:19:30</td>\n",
       "      <td>2024-01-29 02:48:30</td>\n",
       "      <td>1992</td>\n",
       "      <td>30</td>\n",
       "      <td>Cash on Delivery</td>\n",
       "      <td>50 off Promo</td>\n",
       "      <td>130</td>\n",
       "      <td>50</td>\n",
       "      <td>0</td>\n",
       "    </tr>\n",
       "  </tbody>\n",
       "</table>\n",
       "</div>"
      ],
      "text/plain": [
       "   Order ID Customer ID Restaurant ID  Order Date and Time  \\\n",
       "0         1       C8270         R2924  2024-02-01 01:11:52   \n",
       "1         2       C1860         R2054  2024-02-02 22:11:04   \n",
       "2         3       C6390         R2870  2024-01-31 05:54:35   \n",
       "3         4       C6191         R2642  2024-01-16 22:52:49   \n",
       "4         5       C6734         R2799  2024-01-29 01:19:30   \n",
       "\n",
       "  Delivery Date and Time  Order Value  Delivery Fee    Payment Method  \\\n",
       "0    2024-02-01 02:39:52         1914             0       Credit Card   \n",
       "1    2024-02-02 22:46:04          986            40    Digital Wallet   \n",
       "2    2024-01-31 06:52:35          937            30  Cash on Delivery   \n",
       "3    2024-01-16 23:38:49         1463            50  Cash on Delivery   \n",
       "4    2024-01-29 02:48:30         1992            30  Cash on Delivery   \n",
       "\n",
       "  Discounts and Offers  Commission Fee  Payment Processing Fee  \\\n",
       "0            5% on App             150                      47   \n",
       "1                  10%             198                      23   \n",
       "2         15% New User             195                      45   \n",
       "3                  NaN             146                      27   \n",
       "4         50 off Promo             130                      50   \n",
       "\n",
       "   Refunds/Chargebacks  \n",
       "0                    0  \n",
       "1                    0  \n",
       "2                    0  \n",
       "3                    0  \n",
       "4                    0  "
      ]
     },
     "execution_count": 1,
     "metadata": {},
     "output_type": "execute_result"
    }
   ],
   "source": [
    "import pandas as pd\n",
    "import numpy as np\n",
    "from scipy import stats\n",
    "\n",
    "# Load the dataset\n",
    "data = pd.read_csv(\"food_orders_new_delhi.csv\")\n",
    "data.head()"
   ]
  },
  {
   "cell_type": "code",
   "execution_count": 2,
   "id": "e25edfa6",
   "metadata": {},
   "outputs": [
    {
     "name": "stdout",
     "output_type": "stream",
     "text": [
      "<class 'pandas.core.frame.DataFrame'>\n",
      "RangeIndex: 1000 entries, 0 to 999\n",
      "Data columns (total 12 columns):\n",
      " #   Column                  Non-Null Count  Dtype \n",
      "---  ------                  --------------  ----- \n",
      " 0   Order ID                1000 non-null   int64 \n",
      " 1   Customer ID             1000 non-null   object\n",
      " 2   Restaurant ID           1000 non-null   object\n",
      " 3   Order Date and Time     1000 non-null   object\n",
      " 4   Delivery Date and Time  1000 non-null   object\n",
      " 5   Order Value             1000 non-null   int64 \n",
      " 6   Delivery Fee            1000 non-null   int64 \n",
      " 7   Payment Method          1000 non-null   object\n",
      " 8   Discounts and Offers    815 non-null    object\n",
      " 9   Commission Fee          1000 non-null   int64 \n",
      " 10  Payment Processing Fee  1000 non-null   int64 \n",
      " 11  Refunds/Chargebacks     1000 non-null   int64 \n",
      "dtypes: int64(6), object(6)\n",
      "memory usage: 93.9+ KB\n"
     ]
    }
   ],
   "source": [
    "# Display basic info\n",
    "data.info()"
   ]
  },
  {
   "cell_type": "markdown",
   "id": "5951a719",
   "metadata": {},
   "source": [
    "Order & Delivery Date and Time is in object dtype so we need to change to Date&Time"
   ]
  },
  {
   "cell_type": "code",
   "execution_count": 3,
   "id": "04ce0e65",
   "metadata": {
    "scrolled": true
   },
   "outputs": [
    {
     "data": {
      "text/html": [
       "<div>\n",
       "<style scoped>\n",
       "    .dataframe tbody tr th:only-of-type {\n",
       "        vertical-align: middle;\n",
       "    }\n",
       "\n",
       "    .dataframe tbody tr th {\n",
       "        vertical-align: top;\n",
       "    }\n",
       "\n",
       "    .dataframe thead th {\n",
       "        text-align: right;\n",
       "    }\n",
       "</style>\n",
       "<table border=\"1\" class=\"dataframe\">\n",
       "  <thead>\n",
       "    <tr style=\"text-align: right;\">\n",
       "      <th></th>\n",
       "      <th>Order ID</th>\n",
       "      <th>Order Value</th>\n",
       "      <th>Delivery Fee</th>\n",
       "      <th>Commission Fee</th>\n",
       "      <th>Payment Processing Fee</th>\n",
       "      <th>Refunds/Chargebacks</th>\n",
       "    </tr>\n",
       "  </thead>\n",
       "  <tbody>\n",
       "    <tr>\n",
       "      <th>count</th>\n",
       "      <td>1000.000000</td>\n",
       "      <td>1000.000000</td>\n",
       "      <td>1000.000000</td>\n",
       "      <td>1000.00000</td>\n",
       "      <td>1000.000000</td>\n",
       "      <td>1000.000000</td>\n",
       "    </tr>\n",
       "    <tr>\n",
       "      <th>mean</th>\n",
       "      <td>500.500000</td>\n",
       "      <td>1053.969000</td>\n",
       "      <td>28.620000</td>\n",
       "      <td>126.99000</td>\n",
       "      <td>29.832000</td>\n",
       "      <td>28.300000</td>\n",
       "    </tr>\n",
       "    <tr>\n",
       "      <th>std</th>\n",
       "      <td>288.819436</td>\n",
       "      <td>530.975339</td>\n",
       "      <td>16.958278</td>\n",
       "      <td>43.06405</td>\n",
       "      <td>11.627165</td>\n",
       "      <td>49.614228</td>\n",
       "    </tr>\n",
       "    <tr>\n",
       "      <th>min</th>\n",
       "      <td>1.000000</td>\n",
       "      <td>104.000000</td>\n",
       "      <td>0.000000</td>\n",
       "      <td>50.00000</td>\n",
       "      <td>10.000000</td>\n",
       "      <td>0.000000</td>\n",
       "    </tr>\n",
       "    <tr>\n",
       "      <th>25%</th>\n",
       "      <td>250.750000</td>\n",
       "      <td>597.750000</td>\n",
       "      <td>20.000000</td>\n",
       "      <td>90.00000</td>\n",
       "      <td>20.000000</td>\n",
       "      <td>0.000000</td>\n",
       "    </tr>\n",
       "    <tr>\n",
       "      <th>50%</th>\n",
       "      <td>500.500000</td>\n",
       "      <td>1038.500000</td>\n",
       "      <td>30.000000</td>\n",
       "      <td>127.00000</td>\n",
       "      <td>30.000000</td>\n",
       "      <td>0.000000</td>\n",
       "    </tr>\n",
       "    <tr>\n",
       "      <th>75%</th>\n",
       "      <td>750.250000</td>\n",
       "      <td>1494.000000</td>\n",
       "      <td>40.000000</td>\n",
       "      <td>164.00000</td>\n",
       "      <td>40.000000</td>\n",
       "      <td>50.000000</td>\n",
       "    </tr>\n",
       "    <tr>\n",
       "      <th>max</th>\n",
       "      <td>1000.000000</td>\n",
       "      <td>1995.000000</td>\n",
       "      <td>50.000000</td>\n",
       "      <td>200.00000</td>\n",
       "      <td>50.000000</td>\n",
       "      <td>150.000000</td>\n",
       "    </tr>\n",
       "  </tbody>\n",
       "</table>\n",
       "</div>"
      ],
      "text/plain": [
       "          Order ID  Order Value  Delivery Fee  Commission Fee  \\\n",
       "count  1000.000000  1000.000000   1000.000000      1000.00000   \n",
       "mean    500.500000  1053.969000     28.620000       126.99000   \n",
       "std     288.819436   530.975339     16.958278        43.06405   \n",
       "min       1.000000   104.000000      0.000000        50.00000   \n",
       "25%     250.750000   597.750000     20.000000        90.00000   \n",
       "50%     500.500000  1038.500000     30.000000       127.00000   \n",
       "75%     750.250000  1494.000000     40.000000       164.00000   \n",
       "max    1000.000000  1995.000000     50.000000       200.00000   \n",
       "\n",
       "       Payment Processing Fee  Refunds/Chargebacks  \n",
       "count             1000.000000          1000.000000  \n",
       "mean                29.832000            28.300000  \n",
       "std                 11.627165            49.614228  \n",
       "min                 10.000000             0.000000  \n",
       "25%                 20.000000             0.000000  \n",
       "50%                 30.000000             0.000000  \n",
       "75%                 40.000000            50.000000  \n",
       "max                 50.000000           150.000000  "
      ]
     },
     "execution_count": 3,
     "metadata": {},
     "output_type": "execute_result"
    }
   ],
   "source": [
    "# \n",
    "data.describe()"
   ]
  },
  {
   "cell_type": "code",
   "execution_count": 4,
   "id": "d246b69f",
   "metadata": {},
   "outputs": [
    {
     "data": {
      "text/plain": [
       "(1000, 12)"
      ]
     },
     "execution_count": 4,
     "metadata": {},
     "output_type": "execute_result"
    }
   ],
   "source": [
    "# \n",
    "data.shape"
   ]
  },
  {
   "cell_type": "markdown",
   "id": "d34ac3e8",
   "metadata": {},
   "source": [
    "### 2. Clean the dataset for inconsistencies, missing values, or irrelevant information."
   ]
  },
  {
   "cell_type": "code",
   "execution_count": 5,
   "id": "fd08dc18",
   "metadata": {},
   "outputs": [
    {
     "data": {
      "text/plain": [
       "0"
      ]
     },
     "execution_count": 5,
     "metadata": {},
     "output_type": "execute_result"
    }
   ],
   "source": [
    "#\n",
    "data.duplicated().sum()"
   ]
  },
  {
   "cell_type": "code",
   "execution_count": 6,
   "id": "7db15c7a",
   "metadata": {},
   "outputs": [
    {
     "data": {
      "text/plain": [
       "Order ID                    0\n",
       "Customer ID                 0\n",
       "Restaurant ID               0\n",
       "Order Date and Time         0\n",
       "Delivery Date and Time      0\n",
       "Order Value                 0\n",
       "Delivery Fee                0\n",
       "Payment Method              0\n",
       "Discounts and Offers      185\n",
       "Commission Fee              0\n",
       "Payment Processing Fee      0\n",
       "Refunds/Chargebacks         0\n",
       "dtype: int64"
      ]
     },
     "execution_count": 6,
     "metadata": {},
     "output_type": "execute_result"
    }
   ],
   "source": [
    "# Checking for missing values\n",
    "data.isnull().sum()"
   ]
  },
  {
   "cell_type": "code",
   "execution_count": 7,
   "id": "70921790",
   "metadata": {},
   "outputs": [],
   "source": [
    "# Fill missing values in Discounts and Offers with 'None'\n",
    "data['Discounts and Offers'] = data['Discounts and Offers'].fillna('None')"
   ]
  },
  {
   "cell_type": "code",
   "execution_count": 8,
   "id": "ca07f3b6",
   "metadata": {},
   "outputs": [
    {
     "data": {
      "text/plain": [
       "0"
      ]
     },
     "execution_count": 8,
     "metadata": {},
     "output_type": "execute_result"
    }
   ],
   "source": [
    "#\n",
    "data['Discounts and Offers'].isnull().sum()"
   ]
  },
  {
   "cell_type": "code",
   "execution_count": 9,
   "id": "a0b8d0d4",
   "metadata": {},
   "outputs": [
    {
     "name": "stdout",
     "output_type": "stream",
     "text": [
      "<class 'pandas.core.frame.DataFrame'>\n",
      "RangeIndex: 1000 entries, 0 to 999\n",
      "Data columns (total 12 columns):\n",
      " #   Column                  Non-Null Count  Dtype         \n",
      "---  ------                  --------------  -----         \n",
      " 0   order_id                1000 non-null   int64         \n",
      " 1   customer_id             1000 non-null   object        \n",
      " 2   restaurant_id           1000 non-null   object        \n",
      " 3   order_date_and_time     1000 non-null   datetime64[ns]\n",
      " 4   delivery_date_and_time  1000 non-null   datetime64[ns]\n",
      " 5   order_value             1000 non-null   int64         \n",
      " 6   delivery_fee            1000 non-null   int64         \n",
      " 7   payment_method          1000 non-null   object        \n",
      " 8   discounts_and_offers    1000 non-null   object        \n",
      " 9   commission_fee          1000 non-null   int64         \n",
      " 10  payment_processing_fee  1000 non-null   int64         \n",
      " 11  refunds/chargebacks     1000 non-null   int64         \n",
      "dtypes: datetime64[ns](2), int64(6), object(4)\n",
      "memory usage: 93.9+ KB\n"
     ]
    }
   ],
   "source": [
    "from datetime import datetime\n",
    "\n",
    "# Convert date columns to datetime\n",
    "data['Order Date and Time'] = pd.to_datetime(data['Order Date and Time'])\n",
    "data['Delivery Date and Time'] = pd.to_datetime(data['Delivery Date and Time'])\n",
    "     \n",
    "# Rename columns for easier reference\n",
    "data.columns = data.columns.str.lower().str.replace(' ', '_')\n",
    "data.info()"
   ]
  },
  {
   "cell_type": "code",
   "execution_count": 10,
   "id": "5046b151",
   "metadata": {},
   "outputs": [
    {
     "data": {
      "text/html": [
       "<div>\n",
       "<style scoped>\n",
       "    .dataframe tbody tr th:only-of-type {\n",
       "        vertical-align: middle;\n",
       "    }\n",
       "\n",
       "    .dataframe tbody tr th {\n",
       "        vertical-align: top;\n",
       "    }\n",
       "\n",
       "    .dataframe thead th {\n",
       "        text-align: right;\n",
       "    }\n",
       "</style>\n",
       "<table border=\"1\" class=\"dataframe\">\n",
       "  <thead>\n",
       "    <tr style=\"text-align: right;\">\n",
       "      <th></th>\n",
       "      <th>order_id</th>\n",
       "      <th>customer_id</th>\n",
       "      <th>restaurant_id</th>\n",
       "      <th>order_date_and_time</th>\n",
       "      <th>delivery_date_and_time</th>\n",
       "      <th>order_value</th>\n",
       "      <th>delivery_fee</th>\n",
       "      <th>payment_method</th>\n",
       "      <th>discounts_and_offers</th>\n",
       "      <th>commission_fee</th>\n",
       "      <th>payment_processing_fee</th>\n",
       "      <th>refunds/chargebacks</th>\n",
       "    </tr>\n",
       "  </thead>\n",
       "  <tbody>\n",
       "    <tr>\n",
       "      <th>0</th>\n",
       "      <td>1</td>\n",
       "      <td>C8270</td>\n",
       "      <td>R2924</td>\n",
       "      <td>2024-02-01 01:11:52</td>\n",
       "      <td>2024-02-01 02:39:52</td>\n",
       "      <td>1914</td>\n",
       "      <td>0</td>\n",
       "      <td>Credit Card</td>\n",
       "      <td>5% on App</td>\n",
       "      <td>150</td>\n",
       "      <td>47</td>\n",
       "      <td>0</td>\n",
       "    </tr>\n",
       "    <tr>\n",
       "      <th>1</th>\n",
       "      <td>2</td>\n",
       "      <td>C1860</td>\n",
       "      <td>R2054</td>\n",
       "      <td>2024-02-02 22:11:04</td>\n",
       "      <td>2024-02-02 22:46:04</td>\n",
       "      <td>986</td>\n",
       "      <td>40</td>\n",
       "      <td>Digital Wallet</td>\n",
       "      <td>10%</td>\n",
       "      <td>198</td>\n",
       "      <td>23</td>\n",
       "      <td>0</td>\n",
       "    </tr>\n",
       "    <tr>\n",
       "      <th>2</th>\n",
       "      <td>3</td>\n",
       "      <td>C6390</td>\n",
       "      <td>R2870</td>\n",
       "      <td>2024-01-31 05:54:35</td>\n",
       "      <td>2024-01-31 06:52:35</td>\n",
       "      <td>937</td>\n",
       "      <td>30</td>\n",
       "      <td>Cash on Delivery</td>\n",
       "      <td>15% New User</td>\n",
       "      <td>195</td>\n",
       "      <td>45</td>\n",
       "      <td>0</td>\n",
       "    </tr>\n",
       "    <tr>\n",
       "      <th>3</th>\n",
       "      <td>4</td>\n",
       "      <td>C6191</td>\n",
       "      <td>R2642</td>\n",
       "      <td>2024-01-16 22:52:49</td>\n",
       "      <td>2024-01-16 23:38:49</td>\n",
       "      <td>1463</td>\n",
       "      <td>50</td>\n",
       "      <td>Cash on Delivery</td>\n",
       "      <td>None</td>\n",
       "      <td>146</td>\n",
       "      <td>27</td>\n",
       "      <td>0</td>\n",
       "    </tr>\n",
       "    <tr>\n",
       "      <th>4</th>\n",
       "      <td>5</td>\n",
       "      <td>C6734</td>\n",
       "      <td>R2799</td>\n",
       "      <td>2024-01-29 01:19:30</td>\n",
       "      <td>2024-01-29 02:48:30</td>\n",
       "      <td>1992</td>\n",
       "      <td>30</td>\n",
       "      <td>Cash on Delivery</td>\n",
       "      <td>50 off Promo</td>\n",
       "      <td>130</td>\n",
       "      <td>50</td>\n",
       "      <td>0</td>\n",
       "    </tr>\n",
       "  </tbody>\n",
       "</table>\n",
       "</div>"
      ],
      "text/plain": [
       "   order_id customer_id restaurant_id order_date_and_time  \\\n",
       "0         1       C8270         R2924 2024-02-01 01:11:52   \n",
       "1         2       C1860         R2054 2024-02-02 22:11:04   \n",
       "2         3       C6390         R2870 2024-01-31 05:54:35   \n",
       "3         4       C6191         R2642 2024-01-16 22:52:49   \n",
       "4         5       C6734         R2799 2024-01-29 01:19:30   \n",
       "\n",
       "  delivery_date_and_time  order_value  delivery_fee    payment_method  \\\n",
       "0    2024-02-01 02:39:52         1914             0       Credit Card   \n",
       "1    2024-02-02 22:46:04          986            40    Digital Wallet   \n",
       "2    2024-01-31 06:52:35          937            30  Cash on Delivery   \n",
       "3    2024-01-16 23:38:49         1463            50  Cash on Delivery   \n",
       "4    2024-01-29 02:48:30         1992            30  Cash on Delivery   \n",
       "\n",
       "  discounts_and_offers  commission_fee  payment_processing_fee  \\\n",
       "0            5% on App             150                      47   \n",
       "1                  10%             198                      23   \n",
       "2         15% New User             195                      45   \n",
       "3                 None             146                      27   \n",
       "4         50 off Promo             130                      50   \n",
       "\n",
       "   refunds/chargebacks  \n",
       "0                    0  \n",
       "1                    0  \n",
       "2                    0  \n",
       "3                    0  \n",
       "4                    0  "
      ]
     },
     "execution_count": 10,
     "metadata": {},
     "output_type": "execute_result"
    }
   ],
   "source": [
    "data.head()"
   ]
  },
  {
   "cell_type": "markdown",
   "id": "b882db34",
   "metadata": {},
   "source": [
    "### 3. Find the most common payment method. What is the proportion of the most common delivery method? "
   ]
  },
  {
   "cell_type": "code",
   "execution_count": 11,
   "id": "5794d4c4",
   "metadata": {},
   "outputs": [
    {
     "data": {
      "text/plain": [
       "payment_method\n",
       "Cash on Delivery    357\n",
       "Credit Card         337\n",
       "Digital Wallet      306\n",
       "Name: count, dtype: int64"
      ]
     },
     "execution_count": 11,
     "metadata": {},
     "output_type": "execute_result"
    }
   ],
   "source": [
    "# Find the most common payment method\n",
    "payment_counts = data['payment_method'].value_counts()\n",
    "payment_counts"
   ]
  },
  {
   "cell_type": "code",
   "execution_count": 12,
   "id": "58a04822",
   "metadata": {},
   "outputs": [
    {
     "data": {
      "text/plain": [
       "'Cash on Delivery'"
      ]
     },
     "execution_count": 12,
     "metadata": {},
     "output_type": "execute_result"
    }
   ],
   "source": [
    "most_common = payment_counts.index[0]\n",
    "most_common"
   ]
  },
  {
   "cell_type": "code",
   "execution_count": 13,
   "id": "e0127bba",
   "metadata": {},
   "outputs": [
    {
     "data": {
      "text/plain": [
       "0.357"
      ]
     },
     "execution_count": 13,
     "metadata": {},
     "output_type": "execute_result"
    }
   ],
   "source": [
    "most_common_proportion = payment_counts[most_common] / len(data)\n",
    "most_common_proportion"
   ]
  },
  {
   "cell_type": "code",
   "execution_count": 14,
   "id": "d2cffbfe",
   "metadata": {},
   "outputs": [
    {
     "data": {
      "image/png": "[encoded data removed]",
      "text/plain": [
       "<Figure size 576x576 with 1 Axes>"
      ]
     },
     "metadata": {},
     "output_type": "display_data"
    }
   ],
   "source": [
    "import matplotlib.pyplot as plt\n",
    "\n",
    "# Plot pie chart\n",
    "plt.figure(figsize=(8, 8))\n",
    "plt.pie(payment_counts, labels=payment_counts.index, autopct='%1.1f%%', startangle=140, colors=['#ff9999','#66b3ff','#99ff99','#ffcc99'])\n",
    "plt.title(\"Proportion of Different Payment Methods\")\n",
    "plt.show()"
   ]
  },
  {
   "cell_type": "markdown",
   "id": "c9db3d8a",
   "metadata": {},
   "source": [
    "### 4. Find 95% confidence interval of the proportion of the most common payment method"
   ]
  },
  {
   "cell_type": "code",
   "execution_count": 15,
   "id": "e4457485",
   "metadata": {},
   "outputs": [
    {
     "name": "stdout",
     "output_type": "stream",
     "text": [
      "95% Confidence Interval: (0.3273, 0.3867)\n"
     ]
    }
   ],
   "source": [
    "from scipy.stats import norm\n",
    "\n",
    "n = len(data)\n",
    "p_hat = most_common_proportion\n",
    "z = norm.ppf(0.975)  # 95% confidence level\n",
    "margin_of_error = z * (p_hat * (1 - p_hat) / n) ** 0.5\n",
    "\n",
    "ci_lower = p_hat - margin_of_error\n",
    "ci_upper = p_hat + margin_of_error\n",
    "\n",
    "print(f\"95% Confidence Interval: ({ci_lower:.4f}, {ci_upper:.4f})\")"
   ]
  },
  {
   "cell_type": "markdown",
   "id": "284ee084",
   "metadata": {},
   "source": [
    "The 95% confidence interval suggests that the true proportion of the most commonly used payment method in the population lies between 32.73% and 38.67%. This means that if we were to take multiple samples, 95% of the time, the true proportion would fall within this range. The relatively narrow confidence interval indicates high confidence in our estimate."
   ]
  },
  {
   "cell_type": "markdown",
   "id": "9964191a",
   "metadata": {},
   "source": [
    "### 5. Determine the average and the median commission fee."
   ]
  },
  {
   "cell_type": "code",
   "execution_count": 16,
   "id": "cac067ce",
   "metadata": {},
   "outputs": [
    {
     "name": "stdout",
     "output_type": "stream",
     "text": [
      "Average Commission Fee: 126.99\n",
      "Median Commission Fee: 127.00\n"
     ]
    }
   ],
   "source": [
    "avg_commission = data['commission_fee'].mean()\n",
    "median_commission = data['commission_fee'].median()\n",
    "\n",
    "print(f\"Average Commission Fee: {avg_commission:.2f}\")\n",
    "print(f\"Median Commission Fee: {median_commission:.2f}\")"
   ]
  },
  {
   "cell_type": "markdown",
   "id": "86a3b2de",
   "metadata": {},
   "source": [
    "The closeness of these two values indicates that the commission fee distribution is approximately symmetric, with no extreme outliers significantly skewing the average."
   ]
  },
  {
   "cell_type": "markdown",
   "id": "5bd799bf",
   "metadata": {},
   "source": [
    "### 6. Find the average order value of the customer"
   ]
  },
  {
   "cell_type": "code",
   "execution_count": 17,
   "id": "ba20e117",
   "metadata": {},
   "outputs": [
    {
     "name": "stdout",
     "output_type": "stream",
     "text": [
      "Average Order Value: 1053.97\n"
     ]
    }
   ],
   "source": [
    "avg_order_value = data['order_value'].mean()\n",
    "print(f\"Average Order Value: {avg_order_value:.2f}\")"
   ]
  },
  {
   "cell_type": "markdown",
   "id": "ee804093",
   "metadata": {},
   "source": [
    "This value provides insight into consumer spending behavior and can be used to estimate total revenue generation for the business. If the business aims to increase profitability, strategies such as upselling, promotional offers, or premium services could be introduced to encourage higher spending per order."
   ]
  },
  {
   "cell_type": "markdown",
   "id": "84dcbc4e",
   "metadata": {},
   "source": [
    "### 7. Find the probability that a commission fee is\n",
    "1. More than 120 \n",
    "2. Less than 143 \n",
    "3. Between 86 and 133 \n",
    "\n"
   ]
  },
  {
   "cell_type": "code",
   "execution_count": 18,
   "id": "41c9e9df",
   "metadata": {},
   "outputs": [
    {
     "name": "stdout",
     "output_type": "stream",
     "text": [
      "P(Commission Fee > 120): 0.55\n",
      "P(Commission Fee < 143): 0.60\n",
      "P(86 ≤ Commission Fee ≤ 133): 0.32\n"
     ]
    }
   ],
   "source": [
    "prob_more_than_120 = (data['commission_fee'] > 120).mean()\n",
    "prob_less_than_143 = (data['commission_fee'] < 143).mean()\n",
    "prob_between_86_and_133 = ((data['commission_fee'] >= 86) & (data['commission_fee'] <= 133)).mean()\n",
    "\n",
    "print(f\"P(Commission Fee > 120): {prob_more_than_120:.2f}\")\n",
    "print(f\"P(Commission Fee < 143): {prob_less_than_143:.2f}\")\n",
    "print(f\"P(86 ≤ Commission Fee ≤ 133): {prob_between_86_and_133:.2f}\")"
   ]
  },
  {
   "cell_type": "markdown",
   "id": "a9206ff1",
   "metadata": {},
   "source": [
    "These probabilities indicate that:\n",
    "\n",
    "- 55% of orders have a commission fee greater than 120, suggesting that more than half of the transactions contribute significantly to platform revenue.\n",
    "- 60% of orders have a commission fee below 143, meaning the majority of orders fall within this reasonable range.\n",
    "- 32% of orders have commission fees between 86 and 133, highlighting the variability in commission structures across different transactions"
   ]
  },
  {
   "cell_type": "markdown",
   "id": "2232824b",
   "metadata": {},
   "source": [
    "### 8. Fine the average delivery time of the orders done by the credit card "
   ]
  },
  {
   "cell_type": "code",
   "execution_count": 19,
   "id": "a8fcc9dd",
   "metadata": {},
   "outputs": [
    {
     "name": "stdout",
     "output_type": "stream",
     "text": [
      "Average Delivery Time (Credit Card): 74.01 minutes\n"
     ]
    }
   ],
   "source": [
    "# Calculate delivery time\n",
    "data['delivery_time'] = (data['delivery_date_and_time'] - data['order_date_and_time']).dt.total_seconds() / 60  # Convert to minutes\n",
    "\n",
    "# Filter for Credit Card orders\n",
    "avg_delivery_time_cc = data[data['payment_method'] == 'Credit Card']['delivery_time'].mean()\n",
    "\n",
    "print(f\"Average Delivery Time (Credit Card): {avg_delivery_time_cc:.2f} minutes\")"
   ]
  },
  {
   "cell_type": "markdown",
   "id": "f47ad87b",
   "metadata": {},
   "source": [
    "This is relatively high and may indicate delays due to payment processing, logistics inefficiencies, or long-distance deliveries."
   ]
  },
  {
   "cell_type": "markdown",
   "id": "fc64805b",
   "metadata": {},
   "source": [
    "### 9. What is the lowest order value of 10% largest orders done by Cash on delivery? \n"
   ]
  },
  {
   "cell_type": "code",
   "execution_count": 20,
   "id": "9d1b0369",
   "metadata": {},
   "outputs": [
    {
     "name": "stdout",
     "output_type": "stream",
     "text": [
      "Lowest Order Value of Top 10% (Cash on Delivery): 1802.4000000000003\n"
     ]
    }
   ],
   "source": [
    "cash_orders = data[data['payment_method'] == 'Cash on Delivery']\n",
    "top_10_percent_cash = cash_orders['order_value'].quantile(0.9)\n",
    "\n",
    "print(f\"Lowest Order Value of Top 10% (Cash on Delivery): {top_10_percent_cash}\")"
   ]
  },
  {
   "cell_type": "markdown",
   "id": "d0147f09",
   "metadata": {},
   "source": [
    "This suggests that high-value orders are common among COD users, possibly because customers prefer to pay large amounts in cash rather than using digital payments."
   ]
  },
  {
   "cell_type": "markdown",
   "id": "33509828",
   "metadata": {},
   "source": [
    "### 10. What is the highest order value of 60% least orders done by Digital Wallet? \n"
   ]
  },
  {
   "cell_type": "code",
   "execution_count": 21,
   "id": "607ffde2",
   "metadata": {},
   "outputs": [
    {
     "name": "stdout",
     "output_type": "stream",
     "text": [
      "Highest Order Value of Bottom 60% (Digital Wallet): 1187.0\n"
     ]
    }
   ],
   "source": [
    "digital_wallet_orders = data[data['payment_method'] == 'Digital Wallet']\n",
    "bottom_60_percent_dw = digital_wallet_orders['order_value'].quantile(0.6)\n",
    "\n",
    "print(f\"Highest Order Value of Bottom 60% (Digital Wallet): {bottom_60_percent_dw}\")"
   ]
  },
  {
   "cell_type": "markdown",
   "id": "7d21308d",
   "metadata": {},
   "source": [
    "This suggests that Digital Wallet transactions tend to cluster around mid-range order values. Businesses may consider offering cashback or incentives to encourage higher spending via digital payments."
   ]
  },
  {
   "cell_type": "markdown",
   "id": "a73e5876",
   "metadata": {},
   "source": [
    "### 11. By what amount is the mean value by Digital Wallet more or less than that of Cash on delivery? \n"
   ]
  },
  {
   "cell_type": "code",
   "execution_count": 22,
   "id": "ee4ad25d",
   "metadata": {},
   "outputs": [
    {
     "name": "stdout",
     "output_type": "stream",
     "text": [
      "Difference in Mean Order Value (Digital Wallet - Cash): -9.98\n"
     ]
    }
   ],
   "source": [
    "mean_digital_wallet = digital_wallet_orders['order_value'].mean()\n",
    "mean_cash = cash_orders['order_value'].mean()\n",
    "\n",
    "diff_mean = mean_digital_wallet - mean_cash\n",
    "print(f\"Difference in Mean Order Value (Digital Wallet - Cash): {diff_mean:.2f}\")"
   ]
  },
  {
   "cell_type": "markdown",
   "id": "f29ba532",
   "metadata": {},
   "source": [
    "The negative difference implies that on average, Digital Wallet users spend slightly less than Cash on Delivery users. While the difference is small, it may indicate that COD users are more comfortable placing higher-value orders, possibly due to trust issues with digital transactions or preference for post-delivery payments."
   ]
  },
  {
   "cell_type": "markdown",
   "id": "040fe65d",
   "metadata": {},
   "source": [
    "### 12. The delivery time for any item will take more than 53 minutes. Using a significance level of 0.05, prove or disapprove this claim. \n"
   ]
  },
  {
   "cell_type": "code",
   "execution_count": 23,
   "id": "8b8dc902",
   "metadata": {},
   "outputs": [
    {
     "name": "stdout",
     "output_type": "stream",
     "text": [
      "Reject the null hypothesis: Delivery time is significantly greater than 53 minutes.\n"
     ]
    }
   ],
   "source": [
    "from scipy.stats import ttest_1samp\n",
    "\n",
    "t_stat, p_value = ttest_1samp(data['delivery_time'], 53)\n",
    "\n",
    "if p_value / 2 < 0.05 and t_stat > 0:  # One-tailed test\n",
    "    print(\"Reject the null hypothesis: Delivery time is significantly greater than 53 minutes.\")\n",
    "else:\n",
    "    print(\"Fail to reject the null hypothesis: No significant evidence that delivery time is greater than 53 minutes.\")"
   ]
  },
  {
   "cell_type": "markdown",
   "id": "a31fc4a7",
   "metadata": {},
   "source": [
    "Since we rejected the null hypothesis, this means that there is significant statistical evidence to conclude that the average delivery time is greater than 53 minutes. This finding indicates potential delivery inefficiencies that may need to be addressed through better logistics, optimized delivery routes, or increased restaurant efficiency."
   ]
  },
  {
   "cell_type": "markdown",
   "id": "1ba6be15",
   "metadata": {},
   "source": [
    "### 13. What is the range within which the middle 50% ordering-delivery durations differ? \n"
   ]
  },
  {
   "cell_type": "code",
   "execution_count": 24,
   "id": "645c0ab4",
   "metadata": {},
   "outputs": [
    {
     "name": "stdout",
     "output_type": "stream",
     "text": [
      "Middle 50% of Delivery Times: 50.00 to 96.00 minutes\n"
     ]
    }
   ],
   "source": [
    "q1 = data['delivery_time'].quantile(0.25)\n",
    "q3 = data['delivery_time'].quantile(0.75)\n",
    "\n",
    "print(f\"Middle 50% of Delivery Times: {q1:.2f} to {q3:.2f} minutes\")"
   ]
  },
  {
   "cell_type": "markdown",
   "id": "5d173ba0",
   "metadata": {},
   "source": [
    "The interquartile range (IQR) reveals that 50% of the orders are delivered within 50 to 96 minutes. This range provides a useful benchmark for setting customer expectations and performance targets for delivery operations. Orders below 50 minutes may represent efficient deliveries, while those above 96 minutes might indicate bottlenecks or delays."
   ]
  },
  {
   "cell_type": "markdown",
   "id": "670d2a56",
   "metadata": {},
   "source": [
    "### 14. Find the distribution of various payment methods whose Refunds/Chargebacks is more than zero."
   ]
  },
  {
   "cell_type": "code",
   "execution_count": 25,
   "id": "d7043616",
   "metadata": {},
   "outputs": [
    {
     "name": "stdout",
     "output_type": "stream",
     "text": [
      "Distribution of Payment Methods (Refunds > 0):\n",
      "payment_method\n",
      "Credit Card         102\n",
      "Cash on Delivery    101\n",
      "Digital Wallet       82\n",
      "Name: count, dtype: int64\n"
     ]
    }
   ],
   "source": [
    "refunds = data[data['refunds/chargebacks'] > 0]\n",
    "payment_method_distribution = refunds['payment_method'].value_counts()\n",
    "\n",
    "print(\"Distribution of Payment Methods (Refunds > 0):\")\n",
    "print(payment_method_distribution)"
   ]
  },
  {
   "cell_type": "markdown",
   "id": "2e777440",
   "metadata": {},
   "source": [
    "The distribution shows that Credit Card and Cash on Delivery transactions have the highest refund/chargeback cases, followed by Digital Wallet.\n",
    "\n",
    "- Credit Card Refunds (102 cases): Possibly due to payment failures, customer disputes, or fraud detection measures.\n",
    "- Cash on Delivery Refunds (101 cases): Likely driven by customer order cancellations, delivery issues, or unavailability of cash at the time of delivery.\n",
    "- Digital Wallet Refunds (82 cases): Comparatively lower, suggesting that digital payments are more stable with fewer disputes or failures."
   ]
  }
 ],
 "metadata": {
  "kernelspec": {
   "display_name": "Python (learn-env)",
   "language": "python",
   "name": "learn-env"
  },
  "language_info": {
   "codemirror_mode": {
    "name": "ipython",
    "version": 3
   },
   "file_extension": ".py",
   "mimetype": "text/x-python",
   "name": "python",
   "nbconvert_exporter": "python",
   "pygments_lexer": "ipython3",
   "version": "3.8.5"
  }
 },
 "nbformat": 4,
 "nbformat_minor": 5
}
